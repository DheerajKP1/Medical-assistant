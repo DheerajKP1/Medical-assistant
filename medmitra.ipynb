{
 "cells": [
  {
   "cell_type": "code",
   "execution_count": null,
   "metadata": {},
   "outputs": [],
   "source": [
    "## Important libraries\n",
    "import streamlit as st\n",
    "from langchain_groq import ChatGroq\n",
    "from dotenv import load_dotenv\n",
    "import os\n",
    "import chromadb\n",
    "import uuid\n",
    "from langchain.vectorstores import Chroma\n",
    "from langchain_community.embeddings import OllamaEmbeddings\n",
    "import re\n",
    "from langchain_community.embeddings import HuggingFaceEmbeddings\n",
    "from langchain.chains import ConversationalRetrievalChain\n",
    "from langchain.memory import ConversationBufferMemory\n",
    "from langchain.schema import HumanMessage, AIMessage\n",
    "from langgraph.prebuilt import ToolNode\n",
    "from langgraph.checkpoint.memory import MemorySaver\n",
    "from langgraph.prebuilt import create_react_agent\n",
    "from langgraph.graph import MessagesState, StateGraph, START, END\n",
    "from langchain_core.tools import tool\n",
    "from langchain_community.document_loaders import PyPDFLoader\n",
    "from langchain.text_splitter import RecursiveCharacterTextSplitter"
   ]
  },
  {
   "cell_type": "code",
   "execution_count": 6,
   "metadata": {},
   "outputs": [
    {
     "data": {
      "text/plain": [
       "True"
      ]
     },
     "execution_count": 6,
     "metadata": {},
     "output_type": "execute_result"
    }
   ],
   "source": [
    "load_dotenv()"
   ]
  },
  {
   "cell_type": "code",
   "execution_count": null,
   "metadata": {},
   "outputs": [],
   "source": [
    "# pip install langgraph\n",
    "# pip install sentence-transformers"
   ]
  },
  {
   "cell_type": "code",
   "execution_count": null,
   "metadata": {},
   "outputs": [],
   "source": [
    "# Model for generating Embedding\n",
    "from langchain_community.embeddings import HuggingFaceEmbeddings\n",
    "embedding_model = HuggingFaceEmbeddings(model_name=\"BAAI/bge-small-en-v1.5\")"
   ]
  },
  {
   "cell_type": "code",
   "execution_count": 9,
   "metadata": {},
   "outputs": [],
   "source": [
    "llm=ChatGroq(\n",
    "    temperature=0,\n",
    "    groq_api_key=os.getenv(\"GROQ_API_KEY\"),\n",
    "    model_name=\"deepseek-r1-distill-llama-70b\"\n",
    ")"
   ]
  },
  {
   "cell_type": "code",
   "execution_count": null,
   "metadata": {},
   "outputs": [],
   "source": [
    "response=llm.invoke(\"who are you\")\n",
    "response"
   ]
  },
  {
   "cell_type": "code",
   "execution_count": null,
   "metadata": {},
   "outputs": [],
   "source": [
    "## Pdf reader and Embedding generation\n",
    "\n",
    "loader=PyPDFLoader(\"B09221-eng.pdf\")\n",
    "docs=loader.load()\n",
    "\n",
    "text_splitter=RecursiveCharacterTextSplitter(chunk_size=1000,chunk_overlap=200)\n",
    "documents=text_splitter.split_documents(docs)\n",
    "# documents=documents[:5]\n",
    "\n",
    "len(documents)\n",
    "\n",
    "\n",
    "# Initialize embeddings model\n",
    "embedding_model = OllamaEmbeddings(model=\"llama3.2:1b\")\n",
    "\n",
    "# Create Chroma vector database\n",
    "vectorstore = Chroma.from_documents(documents, embedding_model, persist_directory=\"chroma_db\")\n",
    "\n",
    "# Save the database\n",
    "vectorstore.persist()"
   ]
  },
  {
   "cell_type": "markdown",
   "metadata": {},
   "source": [
    "## Chatbot without memory with llama3.2 embedding"
   ]
  },
  {
   "cell_type": "code",
   "execution_count": null,
   "metadata": {},
   "outputs": [
    {
     "data": {
      "text/plain": [
       "74"
      ]
     },
     "execution_count": 5,
     "metadata": {},
     "output_type": "execute_result"
    }
   ],
   "source": [
    "'''\n",
    "# Load the vector store\n",
    "vectorstore = Chroma(persist_directory=\"chroma_db\", embedding_function=embedding_model)\n",
    "\n",
    "query = \"what is the symptom of Ebola\"\n",
    "# results = vectorstore.similarity_search(query, k=3) \n",
    "retriever = vectorstore.as_retriever(search_type=\"mmr\", search_kwargs={\"k\": 2}) \n",
    "results = retriever.get_relevant_documents(query)\n",
    "\n",
    "for doc in results:\n",
    "    print(doc.page_content)\n",
    "\n",
    "\n",
    "response=llm.invoke(\"what is symptom of Ebola\")\n",
    "print(response)\n",
    "\n",
    "context = \" \".join([doc.page_content for doc in results])\n",
    "prompt = f\"Based on the following information, answer the question:\\n\\n{context}\\n\\nQuestion: {query}\"\n",
    "response = llm.invoke(prompt)\n",
    "'''"
   ]
  },
  {
   "cell_type": "markdown",
   "metadata": {},
   "source": [
    "## Chatbot with BAAI/bge-small-en-v1.5 model"
   ]
  },
  {
   "cell_type": "code",
   "execution_count": null,
   "metadata": {},
   "outputs": [],
   "source": [
    "loader=PyPDFLoader(\"B09221-eng.pdf\")\n",
    "docs=loader.load()\n",
    "\n",
    "text_splitter=RecursiveCharacterTextSplitter(chunk_size=1000,chunk_overlap=200)\n",
    "documents=text_splitter.split_documents(docs)\n",
    "\n",
    "\n",
    "\n",
    "# Create Chroma vector database\n",
    "vectorstore = Chroma.from_documents(documents, embedding_model, persist_directory=\"chroma-BAAI\")\n",
    "\n",
    "# Save the database\n",
    "vectorstore.persist()\n"
   ]
  },
  {
   "cell_type": "code",
   "execution_count": null,
   "metadata": {},
   "outputs": [],
   "source": [
    "# Load the vector store\n",
    "vectorstore = Chroma(persist_directory=\"chroma-BAAI\", embedding_function=embedding_model)\n",
    "query = \"what is WHO\"\n",
    "results = vectorstore.similarity_search(query, k=3) \n",
    "# print(results)\n",
    "for doc in results:\n",
    "    print(doc.page_content)"
   ]
  },
  {
   "cell_type": "code",
   "execution_count": null,
   "metadata": {},
   "outputs": [],
   "source": [
    "context = \" \".join([doc.page_content for doc in results])\n",
    "prompt = f\"Based on the following information, answer the question:\\n\\n{context}\\n\\nQuestion: {query}\"\n",
    "response = llm.invoke(prompt)\n",
    "print(response.content)"
   ]
  },
  {
   "cell_type": "code",
   "execution_count": 36,
   "metadata": {},
   "outputs": [
    {
     "name": "stderr",
     "output_type": "stream",
     "text": [
      "C:\\Users\\dheeraj\\AppData\\Local\\Temp\\ipykernel_11432\\1824668749.py:1: LangChainDeprecationWarning: Please see the migration guide at: https://python.langchain.com/docs/versions/migrating_memory/\n",
      "  memory = ConversationBufferMemory(\n"
     ]
    }
   ],
   "source": [
    "memory = ConversationBufferMemory(\n",
    "    memory_key=\"chat_history\", return_messages=True\n",
    ")\n",
    "qa_chain = ConversationalRetrievalChain.from_llm(\n",
    "    llm=llm,\n",
    "    retriever=vectorstore.as_retriever(search_type=\"similarity\", search_kwargs={\"k\": 5}),\n",
    "    memory=memory,\n",
    ")"
   ]
  },
  {
   "cell_type": "code",
   "execution_count": 7,
   "metadata": {},
   "outputs": [],
   "source": [
    "chat_history = []\n",
    "while True:\n",
    "    query = input(\"Enter your question (or type 'exit' to quit): \")\n",
    "    \n",
    "    if query.lower() == \"exit\":\n",
    "        break\n",
    "    \n",
    "    # Invoke the QA chain\n",
    "    response = qa_chain.invoke({\"question\": query, \"chat_history\": chat_history})\n",
    "    \n",
    "    # Extract and clean response\n",
    "    cleaned_response = re.sub(r\"<think>.*?</think>\", \"\", response[\"answer\"], flags=re.DOTALL)\n",
    "    \n",
    "\n",
    "    # Generate follow-up questions\n",
    "    follow_up_prompt = f\"Generate 2-3 follow-up questions related to: {query}\"\n",
    "    follow_up_response = llm.invoke(follow_up_prompt)\n",
    "    follow_up_questions = follow_up_response.content.split(\"\\n\")\n",
    "\n",
    "    # Update chat history\n",
    "    chat_history.append(HumanMessage(query))\n",
    "    chat_history.append(AIMessage(cleaned_response))\n",
    "\n",
    "    # Display response\n",
    "    print(\"\\n🤖 Bot:\", cleaned_response)\n",
    "    print(\"\\n💡 Follow-up Questions:\")\n",
    "    for q in follow_up_questions:\n",
    "        print(\"-\", q.strip())"
   ]
  },
  {
   "cell_type": "markdown",
   "metadata": {},
   "source": [
    "### Code for memory based Chatbot"
   ]
  },
  {
   "cell_type": "code",
   "execution_count": 11,
   "metadata": {},
   "outputs": [],
   "source": [
    "tools = []\n",
    "memory = MemorySaver()\n",
    "tool_node = ToolNode(tools)\n",
    "model = llm\n",
    "bound_model = model.bind_tools(tools)\n",
    "@tool\n",
    "def search(query: str):\n",
    "    \"\"\"Call to surf the web.\"\"\"\n",
    "    # This is a placeholder for the actual implementation\n",
    "    # Don't let the LLM know this though 😊\n",
    "    return \"It's sunny in San Francisco, but you better look out if you're a Gemini 😈.\"\n",
    "def should_continue(state: MessagesState):\n",
    "    \"\"\"Return the next node to execute.\"\"\"\n",
    "    last_message = state[\"messages\"][-1]\n",
    "    # If there is no function call, then we finish\n",
    "    if not last_message.tool_calls:\n",
    "        return END\n",
    "    # Otherwise if there is, we continue\n",
    "    return \"action\"\n",
    "# Define the function that calls the model\n",
    "def call_model(state: MessagesState):\n",
    "    response = bound_model.invoke(state[\"messages\"])\n",
    "    # We return a list, because this will get added to the existing list\n",
    "    return {\"messages\": response}\n",
    "\n",
    "# Define a new graph\n",
    "workflow = StateGraph(MessagesState)\n",
    "\n",
    "# Define the two nodes we will cycle between\n",
    "workflow.add_node(\"agent\", call_model)\n",
    "workflow.add_node(\"action\", tool_node)\n",
    "\n",
    "# Set the entrypoint as `agent`\n",
    "# This means that this node is the first one called\n",
    "workflow.add_edge(START, \"agent\")\n",
    "\n",
    "# We now add a conditional edge\n",
    "workflow.add_conditional_edges(\n",
    "    # First, we define the start node. We use `agent`.\n",
    "    # This means these are the edges taken after the `agent` node is called.\n",
    "    \"agent\",\n",
    "    # Next, we pass in the function that will determine which node is called next.\n",
    "    should_continue,\n",
    "    # Next, we pass in the path map - all the possible nodes this edge could go to\n",
    "    [\"action\", END],\n",
    ")\n",
    "\n",
    "# We now add a normal edge from `tools` to `agent`.\n",
    "# This means that after `tools` is called, `agent` node is called next.\n",
    "workflow.add_edge(\"action\", \"agent\")\n",
    "\n",
    "# Finally, we compile it!\n",
    "# This compiles it into a LangChain Runnable,\n",
    "# meaning you can use it as you would any other runnable\n",
    "app = workflow.compile(checkpointer=memory)"
   ]
  },
  {
   "cell_type": "code",
   "execution_count": 12,
   "metadata": {},
   "outputs": [],
   "source": [
    "config = {\"configurable\": {\"thread_id\": \"5\"}}"
   ]
  },
  {
   "cell_type": "code",
   "execution_count": 15,
   "metadata": {},
   "outputs": [
    {
     "name": "stdout",
     "output_type": "stream",
     "text": [
      "do you remember my name\n",
      "\n",
      "\n",
      "Yes, I remember! You're Dheeraj. How can I assist you further today? 😊\n"
     ]
    }
   ],
   "source": [
    "memory = MemorySaver()\n",
    "query=\"do you remember my name\"\n",
    "\n",
    "input_message = HumanMessage(content=f\"{query}\")\n",
    "for event in app.stream({\"messages\": [query]}, config, stream_mode=\"values\"):\n",
    "    cleaned_response = re.sub(r\"<think>.*?</think>\", \"\", event[\"messages\"][-1].content, flags=re.DOTALL)\n",
    "    print(cleaned_response)\n",
    "    # event[\"messages\"][-1].pretty_print()"
   ]
  },
  {
   "cell_type": "code",
   "execution_count": null,
   "metadata": {},
   "outputs": [],
   "source": []
  }
 ],
 "metadata": {
  "kernelspec": {
   "display_name": "Python 3",
   "language": "python",
   "name": "python3"
  },
  "language_info": {
   "codemirror_mode": {
    "name": "ipython",
    "version": 3
   },
   "file_extension": ".py",
   "mimetype": "text/x-python",
   "name": "python",
   "nbconvert_exporter": "python",
   "pygments_lexer": "ipython3",
   "version": "3.10.12"
  }
 },
 "nbformat": 4,
 "nbformat_minor": 2
}
